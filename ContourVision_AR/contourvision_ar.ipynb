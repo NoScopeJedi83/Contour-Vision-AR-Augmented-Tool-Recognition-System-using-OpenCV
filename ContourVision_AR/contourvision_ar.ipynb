{
  "nbformat": 4,
  "nbformat_minor": 0,
  "metadata": {
    "colab": {
      "provenance": []
    },
    "kernelspec": {
      "name": "python3",
      "display_name": "Python 3"
    },
    "language_info": {
      "name": "python"
    }
  },
  "cells": [
    {
      "cell_type": "code",
      "execution_count": null,
      "metadata": {
        "id": "UninstallOpenCV"
      },
      "outputs": [],
      "source": [
        "!pip uninstall -y opencv-python opencv-python-headless\n",
        "!pip install opencv-python==4.5.5.64 opencv-python-headless==4.5.5.64"
      ]
    },
    {
      "cell_type": "code",
      "execution_count": null,
      "metadata": {
        "id": "InstallLibs"
      },
      "outputs": [],
      "source": [
        "# Step 1: Install Required Libraries\n",
        "!pip install -q numpy"
      ]
    },
    {
      "cell_type": "code",
      "execution_count": null,
      "metadata": {
        "id": "DownloadYOLO"
      },
      "outputs": [],
      "source": [
        "# Step 2: Download YOLO Files\n",
        "!wget -q https://pjreddie.com/media/files/yolov3.weights\n",
        "!wget -q https://raw.githubusercontent.com/pjreddie/darknet/master/cfg/yolov3.cfg\n",
        "!wget -q https://raw.githubusercontent.com/pjreddie/darknet/master/data/coco.names"
      ]
    },
    {
      "cell_type": "code",
      "execution_count": null,
      "metadata": {
        "id": "ImportLibraries"
      },
      "outputs": [],
      "source": [
        "# Step 3: Import Necessary Libraries\n",
        "import cv2\n",
        "import numpy as np\n",
        "from google.colab.patches import cv2_imshow\n",
        "from IPython.display import display, Javascript\n",
        "import base64\n",
        "from google.colab import output"
      ]
    },
    {
      "cell_type": "code",
      "execution_count": null,
      "metadata": {
        "id": "LoadYOLO"
      },
      "outputs": [],
      "source": [
        "# Step 4: Load YOLO Model\n",
        "net = cv2.dnn.readNet(\"yolov3.weights\", \"yolov3.cfg\")\n",
        "with open(\"coco.names\", \"r\") as f:\n",
        "    classes = [line.strip() for line in f.readlines()]\n",
        "layer_names = net.getLayerNames()\n",
        "output_layers = [layer_names[i - 1] for i in net.getUnconnectedOutLayers()]\n",
        "print(\"✅ YOLO Model Loaded Successfully!\")"
      ]
    },
    {
      "cell_type": "code",
      "execution_count": null,
      "metadata": {
        "id": "VideoStreamJS"
      },
      "outputs": [],
      "source": [
        "# Step 5: JavaScript Code for Capturing Single Frame from Webcam\n",
        "def video_stream():\n",
        "    js_code = \"\"\"\n",
        "    async function captureFrame() {\n",
        "        const video = document.createElement('video');\n",
        "        video.style.display = 'none';\n",
        "        document.body.appendChild(video);\n",
        "\n",
        "        const stream = await navigator.mediaDevices.getUserMedia({ video: true });\n",
        "        video.srcObject = stream;\n",
        "        await video.play();\n",
        "\n",
        "        const canvas = document.createElement('canvas');\n",
        "        const ctx = canvas.getContext('2d');\n",
        "        canvas.width = video.videoWidth;\n",
        "        canvas.height = video.videoHeight;\n",
        "        ctx.drawImage(video, 0, 0);\n",
        "        const frame = canvas.toDataURL('image/jpeg', 0.8);\n",
        "        google.colab.kernel.invokeFunction('notebook.processFrame', [frame], {});\n",
        "        stream.getTracks().forEach(track => track.stop());\n",
        "    }\n",
        "    captureFrame();\n",
        "    \"\"\"\n",
        "    display(Javascript(js_code))"
      ]
    },
    {
      "cell_type": "code",
      "execution_count": null,
      "metadata": {
        "id": "DecodeBase64"
      },
      "outputs": [],
      "source": [
        "# Step 6: Decode Base64 Image to OpenCV Format\n",
        "def decode_frame(data):\n",
        "    header, encoded = data.split(\",\", 1)\n",
        "    img_bytes = base64.b64decode(encoded)\n",
        "    img_np = np.frombuffer(img_bytes, dtype=np.uint8)\n",
        "    img = cv2.imdecode(img_np, cv2.IMREAD_COLOR)\n",
        "    return img"
      ]
    },
    {
      "cell_type": "code",
      "execution_count": null,
      "metadata": {
        "id": "YOLODetect"
      },
      "outputs": [],
      "source": [
        "# Step 7: YOLO Object Detection Function\n",
        "def detect_objects(img):\n",
        "    height, width, _ = img.shape\n",
        "    blob = cv2.dnn.blobFromImage(img, 0.00392, (416, 416), (0, 0, 0), True, crop=False)\n",
        "    net.setInput(blob)\n",
        "    outs = net.forward(output_layers)\n",
        "    class_ids, confidences, boxes = [], [], []\n",
        "    for out in outs:\n",
        "        for detection in out:\n",
        "            scores = detection[5:]\n",
        "            class_id = np.argmax(scores)\n",
        "            confidence = scores[class_id]\n",
        "            if confidence > 0.5:\n",
        "                center_x = int(detection[0] * width)\n",
        "                center_y = int(detection[1] * height)\n",
        "                w = int(detection[2] * width)\n",
        "                h = int(detection[3] * height)\n",
        "                x = int(center_x - w / 2)\n",
        "                y = int(center_y - h / 2)\n",
        "                boxes.append([x, y, w, h])\n",
        "                confidences.append(float(confidence))\n",
        "                class_ids.append(class_id)\n",
        "    indexes = cv2.dnn.NMSBoxes(boxes, confidences, 0.5, 0.4)\n",
        "    for i in indexes.flatten():\n",
        "        x, y, w, h = boxes[i]\n",
        "        label = f\"{classes[class_ids[i]]} ({confidences[i]:.2f})\"\n",
        "        cv2.rectangle(img, (x, y), (x + w, y + h), (0, 255, 0), 2)\n",
        "        cv2.putText(img, label, (x, y - 10), cv2.FONT_HERSHEY_SIMPLEX, 0.5, (0, 255, 0), 2)\n",
        "    return img"
      ]
    },
    {
      "cell_type": "code",
      "execution_count": null,
      "metadata": {
        "id": "ProcessFrame"
      },
      "outputs": [],
      "source": [
        "# Step 8: Process Single Frame\n",
        "def process_frame(data):\n",
        "    img = decode_frame(data)\n",
        "    img = detect_objects(img)\n",
        "    cv2_imshow(img)"
      ]
    },
    {
      "cell_type": "code",
      "execution_count": null,
      "metadata": {
        "id": "StartExecution"
      },
      "outputs": [],
      "source": [
        "# Step 9: Register Callback and Start Capture\n",
        "output.register_callback('notebook.processFrame', process_frame)\n",
        "video_stream()"
      ]
    }
  ]
}
